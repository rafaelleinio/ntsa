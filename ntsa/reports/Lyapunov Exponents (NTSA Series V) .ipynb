{
 "cells": [
  {
   "cell_type": "markdown",
   "metadata": {},
   "source": [
    "# Série V\n",
    "Nonlinear Time Series Analysis - Computer Science Master's Degree Course - Federal University of São Paulo (UNIFESP) - Prof. Elbert E. N. Macau\n",
    "\n",
    "Author: Rafael Leiniö\n",
    "\n",
    "\n",
    "## Algorithm Implementations\n",
    "\n",
    "- [Baker Map](https://github.com/rafaelleinio/ntsa/blob/master/ntsa/algorithms/maps/baker.py)\n",
    "- [Henon Map](https://github.com/rafaelleinio/ntsa/blob/master/ntsa/algorithms/maps/henon.py)\n",
    "- [Lyapunov Exponents](https://github.com/rafaelleinio/ntsa/blob/master/ntsa/algorithms/maps/lyapunov_exponents.py)"
   ]
  },
  {
   "cell_type": "code",
   "execution_count": 1,
   "metadata": {},
   "outputs": [],
   "source": [
    "# fix working dir\n",
    "import pathlib\n",
    "import os\n",
    "path = os.path.join(pathlib.Path().absolute(), '../..')\n",
    "os.chdir(path)"
   ]
  },
  {
   "cell_type": "code",
   "execution_count": 2,
   "metadata": {},
   "outputs": [],
   "source": [
    "# Lyapuvo Exponents Solver\n",
    "\n",
    "\"\"\"Based on the implementation found [here](https://github.com/cbnfreitas/lyapunov_exponent_map_and_ode)\"\"\"\n",
    "\n",
    "from numpy import *\n",
    "from numpy.linalg import *\n",
    "\n",
    "from ntsa.algorithms.maps.map import Map\n",
    "\n",
    "\n",
    "class LyapunovExponents:\n",
    "    def __init__(self, map: Map, tolerance: float = 0.00001, max_iterations: int = 1000):\n",
    "        self.map = map\n",
    "        self.tolerance = tolerance\n",
    "        self.max_iterations = max_iterations\n",
    "\n",
    "    def calculate_from_initial_conditions(self, initial_conditions: ndarray):\n",
    "        # setup variables\n",
    "        n = len(initial_conditions)\n",
    "        x = initial_conditions\n",
    "        w = eye(n)\n",
    "        h = zeros(n)\n",
    "        l = -1\n",
    "\n",
    "        # Numerical Lyapunov exponents calculation\n",
    "        for i in range(0, self.max_iterations):\n",
    "            x_next, w_next = self.map.f(x), self.map.df(x, w)\n",
    "            w_next = self._orthogonalize_columns(w_next)\n",
    "\n",
    "            h_next = h + self._log_of_the_norm_of_the_columns(w_next)\n",
    "            l_next = h_next / (i + 1)\n",
    "\n",
    "            if norm(l_next - l) < self.tolerance:\n",
    "                return sort(l_next)\n",
    "\n",
    "            h = h_next\n",
    "            x = x_next\n",
    "            w = self._normalize_columns(w_next)\n",
    "            l = l_next\n",
    "\n",
    "        # Max iter reach without a Solution in desired tolerance\n",
    "        raise ValueError(\n",
    "            \"Lyapunov Exponents calculation did not converge.\"\n",
    "            f\" Initial conditions = {initial_conditions}\"\n",
    "            f\", Tolerance = {self.tolerance}\"\n",
    "            f\", Max Iterations = {self.max_iterations}\"\n",
    "        )\n",
    "\n",
    "    def calculate_over_set_of_initial_conditions(self, set: ndarray):\n",
    "        solutions = array(\n",
    "            [\n",
    "                self.calculate_from_initial_conditions(initial_conditions)\n",
    "                for initial_conditions in set\n",
    "            ]\n",
    "        )\n",
    "        return apply_along_axis(lambda v: mean(v), 0, solutions)\n",
    "\n",
    "    def _orthogonalize_columns(self, a):\n",
    "        q, r = qr(a)\n",
    "        return q @ diag(r.diagonal())\n",
    "\n",
    "    def _normalize_columns(self, a):\n",
    "        return apply_along_axis(lambda v: v / norm(v), 0, a)\n",
    "\n",
    "    def _log_of_the_norm_of_the_columns(self, a):\n",
    "        return apply_along_axis(lambda v: log(norm(v)), 0, a)\n"
   ]
  },
  {
   "cell_type": "markdown",
   "metadata": {},
   "source": [
    "## Bakers Map"
   ]
  },
  {
   "cell_type": "markdown",
   "metadata": {},
   "source": [
    "![](https://i.imgur.com/4JkvPaA.png)"
   ]
  },
  {
   "cell_type": "code",
   "execution_count": 3,
   "metadata": {},
   "outputs": [],
   "source": [
    "# Reference Code Implementation\n",
    "\n",
    "from numpy import array\n",
    "\n",
    "from ntsa.algorithms.maps.map import Map\n",
    "\n",
    "\n",
    "class Baker(Map):\n",
    "    def __init__(self):\n",
    "        pass\n",
    "\n",
    "    def f(self, xy):\n",
    "        x, y = xy\n",
    "\n",
    "        if 0 <= y <= 1 / 2:\n",
    "            return array([1 / 3 * x, 2 * y])\n",
    "        elif 1 / 2 < y <= 1:\n",
    "            return array([1 / 3 * x + 2 / 3, 2 * y - 1])\n",
    "        else:\n",
    "            raise ValueError(\"y not between 0 and 1\")\n",
    "\n",
    "    def df(self, xy, w):\n",
    "        x, y = xy\n",
    "\n",
    "        if 0 <= y <= 1 / 2:\n",
    "            jacobian_matrix = array([[1 / 3, 0], [0, 2]])\n",
    "            return jacobian_matrix @ w\n",
    "        elif 1 / 2 < y <= 1:\n",
    "            jacobian_matrix = array([[1 / 3, 0], [0, 2]])\n",
    "            return jacobian_matrix @ w\n",
    "        else:\n",
    "            raise ValueError(\"y not between 0 and 1\")"
   ]
  },
  {
   "cell_type": "code",
   "execution_count": 4,
   "metadata": {},
   "outputs": [
    {
     "name": "stdout",
     "output_type": "stream",
     "text": [
      "[-1.09861229  0.69314718]\n"
     ]
    }
   ],
   "source": [
    "# Calculating Lyapunov Exponents:\n",
    "\n",
    "from ntsa.algorithms.maps import LyapunovExponents\n",
    "from ntsa.algorithms.maps import Baker\n",
    "\n",
    "baker_le = LyapunovExponents(map=Baker())\n",
    "baker_solution = baker_le.calculate_from_initial_conditions(array([0.75, 0.75]))\n",
    "print(baker_solution)"
   ]
  },
  {
   "cell_type": "markdown",
   "metadata": {},
   "source": [
    "- As we can see, we got the same result as the image above, with `-1.09861229 ≈ -Ln(3)` and `0.69314718 ≈ -Ln(2)`"
   ]
  },
  {
   "cell_type": "markdown",
   "metadata": {},
   "source": [
    "## Hénon Map"
   ]
  },
  {
   "cell_type": "markdown",
   "metadata": {},
   "source": [
    "![](https://i.imgur.com/YqhkKJS.png)"
   ]
  },
  {
   "cell_type": "code",
   "execution_count": 5,
   "metadata": {},
   "outputs": [],
   "source": [
    "# Reference Code Implementation\n",
    "\n",
    "from numpy import array\n",
    "\n",
    "from ntsa.algorithms.maps.map import Map\n",
    "\n",
    "\n",
    "class Henon(Map):\n",
    "    def __init__(self, a=1.4, b=0.3):\n",
    "        self.a, self.b = a, b\n",
    "\n",
    "    def f(self, xy):\n",
    "        x, y = xy\n",
    "        return array([self.a - x ** 2 + self.b * y, x])\n",
    "\n",
    "    def df(self, xy, w):\n",
    "        x, y = xy\n",
    "        jacobian_matrix = array([[-2 * x, self.b], [1, 0]])\n",
    "        return jacobian_matrix @ w\n"
   ]
  },
  {
   "cell_type": "code",
   "execution_count": 6,
   "metadata": {},
   "outputs": [
    {
     "name": "stdout",
     "output_type": "stream",
     "text": [
      "[-1.60978506  0.40581226]\n"
     ]
    }
   ],
   "source": [
    "# Calculating Lyapunov Exponents:\n",
    "\n",
    "from ntsa.algorithms.maps import LyapunovExponents\n",
    "from ntsa.algorithms.maps import Henon\n",
    "\n",
    "henon_le = LyapunovExponents(map=Henon())\n",
    "henon_solution = henon_le.calculate_from_initial_conditions(array([-0.5, 0.25]))\n",
    "print(henon_solution)"
   ]
  },
  {
   "cell_type": "markdown",
   "metadata": {},
   "source": [
    "- The values are close, but not exactly the same\n",
    "- We can use a set of initial values, calculating a set of solutions and get the average as the final solution"
   ]
  },
  {
   "cell_type": "code",
   "execution_count": 7,
   "metadata": {
    "scrolled": true
   },
   "outputs": [
    {
     "name": "stdout",
     "output_type": "stream",
     "text": [
      "[-1.61985769  0.41588488]\n"
     ]
    }
   ],
   "source": [
    "# Calculating the mean over a set of initial conditions\n",
    "\n",
    "initial_solutions =  array([[-1., -1.], [-1., -0.75], [-1., -0.5], [-1., -0.25], [-1., 0.], [-1., 0.25], [-1., 0.5], [-1., 0.75], [-0.75, -1.], [-0.75, -0.75], [-0.75, -0.5], [-0.75, -0.25], [-0.75, 0.], [-0.75, 0.25], [-0.75, 0.5], [-0.75, 0.75], [-0.5, -1.], [-0.5, -0.75], [-0.5, -0.5], [-0.5, -0.25], [-0.5, 0.], [-0.5, 0.25], [-0.5, 0.5], [-0.5, 0.75], [-0.25, -1.], [-0.25, -0.75], [-0.25, -0.5], [-0.25, -0.25], [-0.25, 0.], [-0.25, 0.25], [-0.25, 0.5], [-0.25, 0.75], [0., -1.], [0., -0.75], [0., -0.5], [0., -0.25], [0., 0.], [0., 0.25], [0., 0.5]])\n",
    "\n",
    "henon_le = LyapunovExponents(map=Henon())\n",
    "henon_solution = henon_le.calculate_over_set_of_initial_conditions(initial_solutions)\n",
    "print(henon_solution)"
   ]
  },
  {
   "cell_type": "markdown",
   "metadata": {},
   "source": [
    "- As we can see now, much more closer to the correct answer!!"
   ]
  }
 ],
 "metadata": {
  "kernelspec": {
   "display_name": "Python 3",
   "language": "python",
   "name": "python3"
  },
  "language_info": {
   "codemirror_mode": {
    "name": "ipython",
    "version": 3
   },
   "file_extension": ".py",
   "mimetype": "text/x-python",
   "name": "python",
   "nbconvert_exporter": "python",
   "pygments_lexer": "ipython3",
   "version": "3.7.0"
  }
 },
 "nbformat": 4,
 "nbformat_minor": 4
}
