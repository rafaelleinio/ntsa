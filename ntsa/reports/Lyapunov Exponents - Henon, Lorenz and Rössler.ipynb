{
 "cells": [
  {
   "cell_type": "markdown",
   "metadata": {},
   "source": [
    "# Série V\n",
    "Nonlinear Time Series Analysis - Computer Science Master's Degree Course - Federal University of São Paulo (UNIFESP) - Prof. Elbert E. N. Macau\n",
    "\n",
    "Author: Rafael Leiniö\n",
    "\n",
    "\n",
    "## Algorithm Implementations\n",
    "\n",
    "- [Henon Map](https://github.com/rafaelleinio/ntsa/blob/master/ntsa/algorithms/maps/henon.py)\n",
    "- [Lorenz Map](https://github.com/rafaelleinio/ntsa/blob/master/ntsa/algorithms/maps/lorenz.py)\n",
    "- [Rössler Map](https://github.com/rafaelleinio/ntsa/blob/master/ntsa/algorithms/maps/rossler.py)\n",
    "- [Lyapunov Exponents](https://github.com/rafaelleinio/ntsa/blob/master/ntsa/algorithms/maps/lyapunov_exponents.py)"
   ]
  },
  {
   "cell_type": "code",
   "execution_count": 1,
   "metadata": {},
   "outputs": [],
   "source": [
    "# fix working dir\n",
    "import pathlib\n",
    "import os\n",
    "path = os.path.join(pathlib.Path().absolute(), '../..')\n",
    "os.chdir(path)"
   ]
  },
  {
   "cell_type": "code",
   "execution_count": 2,
   "metadata": {},
   "outputs": [],
   "source": [
    "# Lyapunov Exponents calculator\n",
    "\n",
    "from numpy import *\n",
    "from numpy.linalg import *\n",
    "\n",
    "from ntsa.algorithms.maps.map import Map\n",
    "\n",
    "\n",
    "class LyapunovExponents:\n",
    "    def __init__(self, map: Map, tolerance: float = 0.00001, max_iterations: int = 1000):\n",
    "        self.map = map\n",
    "        self.tolerance = tolerance\n",
    "        self.max_iterations = max_iterations\n",
    "\n",
    "    def calculate_from_initial_conditions(self, initial_conditions: ndarray):\n",
    "        # setup variables\n",
    "        n = len(initial_conditions)\n",
    "        x = initial_conditions\n",
    "        w = eye(n)\n",
    "        h = zeros(n)\n",
    "        l = -1\n",
    "\n",
    "        # Numerical Lyapunov exponents calculation\n",
    "        for i in range(0, self.max_iterations):\n",
    "            x_next, w_next = self.map.f(x), self.map.df(x, w)\n",
    "            w_next = self._orthogonalize_columns(w_next)\n",
    "\n",
    "            h_next = h + self._log_of_the_norm_of_the_columns(w_next)\n",
    "            l_next = h_next / (i + 1)\n",
    "\n",
    "            if norm(l_next - l) < self.tolerance:\n",
    "                return sort(l_next)\n",
    "\n",
    "            h = h_next\n",
    "            x = x_next\n",
    "            w = self._normalize_columns(w_next)\n",
    "            l = l_next\n",
    "\n",
    "        # Max iter reach without a Solution in desired tolerance\n",
    "        raise ValueError(\n",
    "            \"Lyapunov Exponents calculation did not converge.\"\n",
    "            f\" Initial conditions = {initial_conditions}\"\n",
    "            f\", Tolerance = {self.tolerance}\"\n",
    "            f\", Max Iterations = {self.max_iterations}\"\n",
    "        )\n",
    "\n",
    "    def calculate_over_set_of_initial_conditions(self, set: ndarray):\n",
    "        solutions = array(\n",
    "            [\n",
    "                self.calculate_from_initial_conditions(initial_conditions)\n",
    "                for initial_conditions in set\n",
    "            ]\n",
    "        )\n",
    "        return apply_along_axis(lambda v: mean(v), 0, solutions)\n",
    "\n",
    "    def _orthogonalize_columns(self, a):\n",
    "        q, r = qr(a)\n",
    "        return q @ diag(r.diagonal())\n",
    "\n",
    "    def _normalize_columns(self, a):\n",
    "        return apply_along_axis(lambda v: v / norm(v), 0, a)\n",
    "\n",
    "    def _log_of_the_norm_of_the_columns(self, a):\n",
    "        return apply_along_axis(lambda v: log(norm(v)), 0, a)\n"
   ]
  },
  {
   "cell_type": "markdown",
   "metadata": {},
   "source": [
    "## Henon"
   ]
  },
  {
   "cell_type": "code",
   "execution_count": 3,
   "metadata": {},
   "outputs": [],
   "source": [
    "# calculating Lyapunov Exponents for Henon map, with a=1.4, b=0.3\n",
    "# with starting x=-0.5, y=0.3\n",
    "\n",
    "from ntsa.algorithms.maps import Henon\n",
    "\n",
    "henon = Henon(a=1.4, b=0.3)\n",
    "\n",
    "starting_point = [-0.5, 0.25]\n",
    "\n",
    "solver = LyapunovExponents(henon, tolerance=0.0001, max_iterations=10000)"
   ]
  },
  {
   "cell_type": "code",
   "execution_count": 4,
   "metadata": {},
   "outputs": [
    {
     "data": {
      "text/plain": [
       "array([-1.58552273,  0.38154993])"
      ]
     },
     "execution_count": 4,
     "metadata": {},
     "output_type": "execute_result"
    }
   ],
   "source": [
    "solver.calculate_from_initial_conditions(starting_point)"
   ]
  },
  {
   "cell_type": "markdown",
   "metadata": {},
   "source": [
    "## Lorenz"
   ]
  },
  {
   "cell_type": "code",
   "execution_count": 5,
   "metadata": {},
   "outputs": [],
   "source": [
    "# calculating Lyapunov Exponents for Lorenz map, with sigma=10, rho=28 and beta=8/3\n",
    "# with starting x=0, y=2, z=0\n",
    "\n",
    "from ntsa.algorithms.maps import Lorenz\n",
    "\n",
    "lorenz_map = Lorenz(sigma=10, rho=28, beta=8 / 3)\n",
    "\n",
    "starting_point = [0, 2, 0]\n",
    "\n",
    "solver = LyapunovExponents(lorenz_map, tolerance=0.0001, max_iterations=10000)"
   ]
  },
  {
   "cell_type": "code",
   "execution_count": 6,
   "metadata": {},
   "outputs": [
    {
     "data": {
      "text/plain": [
       "array([-1.45699626e+01,  2.04232901e-03,  9.01254207e-01])"
      ]
     },
     "execution_count": 6,
     "metadata": {},
     "output_type": "execute_result"
    }
   ],
   "source": [
    "solver.calculate_from_initial_conditions(starting_point)"
   ]
  },
  {
   "cell_type": "markdown",
   "metadata": {},
   "source": [
    "## Rössler"
   ]
  },
  {
   "cell_type": "code",
   "execution_count": 7,
   "metadata": {},
   "outputs": [],
   "source": [
    "# calculating Lyapunov Exponents for Rössler map, with a=0.1, b=0.1 and c=14\n",
    "# with starting x=0, y=2, z=1\n",
    "\n",
    "from ntsa.algorithms.maps import Rossler\n",
    "\n",
    "rossler_map = Rossler(a=0.1, b=0.1, c=14)\n",
    "\n",
    "starting_point = [0, 2, 1]\n",
    "\n",
    "solver = LyapunovExponents(rossler_map, tolerance=0.0001, max_iterations=10000)"
   ]
  },
  {
   "cell_type": "code",
   "execution_count": 8,
   "metadata": {},
   "outputs": [
    {
     "data": {
      "text/plain": [
       "array([ 0.06611168,  0.07243824, 14.05875559])"
      ]
     },
     "execution_count": 8,
     "metadata": {},
     "output_type": "execute_result"
    }
   ],
   "source": [
    "solver.calculate_from_initial_conditions(starting_point)"
   ]
  }
 ],
 "metadata": {
  "kernelspec": {
   "display_name": "Python 3",
   "language": "python",
   "name": "python3"
  },
  "language_info": {
   "codemirror_mode": {
    "name": "ipython",
    "version": 3
   },
   "file_extension": ".py",
   "mimetype": "text/x-python",
   "name": "python",
   "nbconvert_exporter": "python",
   "pygments_lexer": "ipython3",
   "version": "3.7.0"
  }
 },
 "nbformat": 4,
 "nbformat_minor": 4
}
