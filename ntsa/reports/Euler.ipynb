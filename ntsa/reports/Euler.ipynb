{
 "cells": [
  {
   "cell_type": "markdown",
   "metadata": {},
   "source": [
    "# Euler Method Experiment Report\n",
    "Nonlinear Time Series Analysis - Computer Science Master's Degree Course - Federal University of São Paulo (UNIFESP) - Prof. Elbert E. N. Macau\n",
    "\n",
    "Author: Rafael Leiniö\n",
    "\n",
    "\n",
    "## Algorithm Implementations\n",
    "\n",
    "- [Euler](https://github.com/rafaelleinio/ntsa/blob/master/ntsa/algorithms/euler.py)\n",
    "- [Backward Euler](https://github.com/rafaelleinio/ntsa/blob/master/ntsa/algorithms/backward_euler.py)\n"
   ]
  },
  {
   "cell_type": "markdown",
   "metadata": {},
   "source": [
    "## Experiments:\n"
   ]
  },
  {
   "cell_type": "code",
   "execution_count": 1,
   "metadata": {},
   "outputs": [],
   "source": [
    "# fix working dir\n",
    "import pathlib\n",
    "import os\n",
    "path = os.path.join(pathlib.Path().absolute(), '../..')\n",
    "os.chdir(path)\n",
    "\n",
    "# imports\n",
    "from math import exp\n",
    "from ntsa.algorithms import Euler, BackwardEuler\n",
    "from ntsa.tools import DataViz\n",
    "data_viz = DataViz()"
   ]
  },
  {
   "cell_type": "markdown",
   "metadata": {},
   "source": [
    "# 8.1 Example\n",
    "\n",
    "Given an EDO in the form of\n",
    "\n",
    "#### `dy/dt = 3(1 + t) - y`\n",
    "\n",
    "#### With `t0 = 1`, `y0 = 4` and `t = 0.2`:"
   ]
  },
  {
   "cell_type": "code",
   "execution_count": 2,
   "metadata": {},
   "outputs": [],
   "source": [
    "t0 = 1\n",
    "y0 = 4\n",
    "h = 0.2\n",
    "n = 6\n",
    "dydt = lambda t, y: 3*(1 + t) - y"
   ]
  },
  {
   "cell_type": "code",
   "execution_count": 3,
   "metadata": {},
   "outputs": [
    {
     "name": "stdout",
     "output_type": "stream",
     "text": [
      "[{'t': 1.0, 'y': 4}, {'t': 1.2, 'y': 4.4}, {'t': 1.4, 'y': 4.840000000000001}, {'t': 1.6, 'y': 5.312}, {'t': 1.8, 'y': 5.8096000000000005}, {'t': 2.0, 'y': 6.32768}]\n"
     ]
    }
   ],
   "source": [
    "# numerical solution\n",
    "solver = Euler(t0, y0, h, dydt)\n",
    "data_points = solver.calculate_y_series(n)\n",
    "print(data_points)"
   ]
  },
  {
   "cell_type": "code",
   "execution_count": 4,
   "metadata": {},
   "outputs": [
    {
     "name": "stdout",
     "output_type": "stream",
     "text": [
      "[{'t': 1.0, 'y': 4.0}, {'t': 1.2, 'y': 4.418730753077981}, {'t': 1.4, 'y': 4.870320046035639}, {'t': 1.6, 'y': 5.348811636094027}, {'t': 1.8, 'y': 5.8493289641172215}, {'t': 2.0, 'y': 6.367879441171443}]\n"
     ]
    }
   ],
   "source": [
    "# exact solution\n",
    "exact_solution = lambda t: 3*t + exp(1 - t)\n",
    "exact_data_points = [{\"t\": t, \"y\": exact_solution(t)} for t in [t0 + i*h for i in range(n)]]\n",
    "print(exact_data_points)"
   ]
  },
  {
   "cell_type": "code",
   "execution_count": 5,
   "metadata": {
    "scrolled": true
   },
   "outputs": [
    {
     "data": {
      "image/png": "[encoded data removed]",
      "text/plain": [
       "<Figure size 432x288 with 1 Axes>"
      ]
     },
     "metadata": {
      "needs_background": "light"
     },
     "output_type": "display_data"
    }
   ],
   "source": [
    "# Comparing numerical solution with exact solution\n",
    "data_viz.plot_data(data_points, label=\"Euler Method Solution\")\n",
    "data_viz.plot_data(exact_data_points, label=\"Exact Solution\")\n",
    "data_viz.show()"
   ]
  },
  {
   "cell_type": "markdown",
   "metadata": {},
   "source": [
    "# 8.2 Example\n",
    "\n",
    "Given an EDO in the form of\n",
    "\n",
    "#### `dy/dt = 3(1 + t) - y`\n",
    "\n",
    "#### With `t0 = 1`, `y0 = 4` and **`t = 0.1`**:"
   ]
  },
  {
   "cell_type": "code",
   "execution_count": 6,
   "metadata": {},
   "outputs": [],
   "source": [
    "t0 = 1\n",
    "y0 = 4\n",
    "h = 0.1\n",
    "n = 11\n",
    "dydt = lambda t, y: 3*(1 + t) - y"
   ]
  },
  {
   "cell_type": "code",
   "execution_count": 7,
   "metadata": {},
   "outputs": [
    {
     "name": "stdout",
     "output_type": "stream",
     "text": [
      "[{'t': 1.0, 'y': 4}, {'t': 1.1, 'y': 4.2}, {'t': 1.2, 'y': 4.41}, {'t': 1.3, 'y': 4.6290000000000004}, {'t': 1.4, 'y': 4.8561000000000005}, {'t': 1.5, 'y': 5.090490000000001}, {'t': 1.6, 'y': 5.331441000000001}, {'t': 1.7000000000000002, 'y': 5.578296900000001}, {'t': 1.8, 'y': 5.830467210000001}, {'t': 1.9, 'y': 6.087420489000001}, {'t': 2.0, 'y': 6.348678440100001}]\n"
     ]
    }
   ],
   "source": [
    "# numerical solution\n",
    "solver = Euler(t0, y0, h, dydt)\n",
    "data_points = solver.calculate_y_series(n)\n",
    "print(data_points)"
   ]
  },
  {
   "cell_type": "code",
   "execution_count": 8,
   "metadata": {},
   "outputs": [
    {
     "name": "stdout",
     "output_type": "stream",
     "text": [
      "[{'t': 1.0, 'y': 4.0}, {'t': 1.1, 'y': 4.20483741803596}, {'t': 1.2, 'y': 4.418730753077981}, {'t': 1.3, 'y': 4.640818220681719}, {'t': 1.4, 'y': 4.870320046035639}, {'t': 1.5, 'y': 5.106530659712633}, {'t': 1.6, 'y': 5.348811636094027}, {'t': 1.7000000000000002, 'y': 5.59658530379141}, {'t': 1.8, 'y': 5.8493289641172215}, {'t': 1.9, 'y': 6.1065696597405985}, {'t': 2.0, 'y': 6.367879441171443}]\n"
     ]
    }
   ],
   "source": [
    "# exact solution\n",
    "exact_solution = lambda t: 3*t + exp(1 - t)\n",
    "exact_data_points = [{\"t\": t, \"y\": exact_solution(t)} for t in [t0 + i*h for i in range(n)]]\n",
    "print(exact_data_points)"
   ]
  },
  {
   "cell_type": "code",
   "execution_count": 9,
   "metadata": {},
   "outputs": [
    {
     "data": {
      "image/png": "[encoded data removed]",
      "text/plain": [
       "<Figure size 432x288 with 1 Axes>"
      ]
     },
     "metadata": {
      "needs_background": "light"
     },
     "output_type": "display_data"
    }
   ],
   "source": [
    "# Comparing numerical solution with exact solution\n",
    "data_viz.plot_data(data_points, label=\"Euler Method Solution\")\n",
    "data_viz.plot_data(exact_data_points, label=\"Exact Solution\")\n",
    "data_viz.show()"
   ]
  },
  {
   "cell_type": "markdown",
   "metadata": {},
   "source": [
    "# 8.3 Example\n",
    "\n",
    "Given an EDO in the form of\n",
    "\n",
    "#### `dy/dt = 3(1 + t) - y`\n",
    "\n",
    "#### With `t0 = 1`, `y0 = 4` and **`t = 0.2`**:\n",
    "\n",
    "* Solving with **Backward Euler** this time"
   ]
  },
  {
   "cell_type": "code",
   "execution_count": 10,
   "metadata": {},
   "outputs": [],
   "source": [
    "t0 = 1\n",
    "y0 = 4\n",
    "h = 0.2\n",
    "n = 6\n",
    "dydt = lambda t, y: 3*(1 + t) - y"
   ]
  },
  {
   "cell_type": "code",
   "execution_count": 11,
   "metadata": {},
   "outputs": [
    {
     "name": "stdout",
     "output_type": "stream",
     "text": [
      "[{'t': 1.0, 'y': 4}, {'t': 1.2, 'y': 4.43333333333333}, {'t': 1.4, 'y': 4.89444444444444}, {'t': 1.6, 'y': 5.37870370370370}, {'t': 1.8, 'y': 5.88225308641975}, {'t': 2.0, 'y': 6.40187757201646}]\n"
     ]
    }
   ],
   "source": [
    "# numerical solution\n",
    "solver = BackwardEuler(t0, y0, h, dydt)\n",
    "data_points = solver.calculate_y_series(n)\n",
    "print(data_points)"
   ]
  },
  {
   "cell_type": "code",
   "execution_count": 12,
   "metadata": {},
   "outputs": [
    {
     "name": "stdout",
     "output_type": "stream",
     "text": [
      "[{'t': 1.0, 'y': 4.0}, {'t': 1.2, 'y': 4.418730753077981}, {'t': 1.4, 'y': 4.870320046035639}, {'t': 1.6, 'y': 5.348811636094027}, {'t': 1.8, 'y': 5.8493289641172215}, {'t': 2.0, 'y': 6.367879441171443}]\n"
     ]
    }
   ],
   "source": [
    "# exact solution\n",
    "exact_solution = lambda t: 3*t + exp(1 - t)\n",
    "exact_data_points = [{\"t\": t, \"y\": exact_solution(t)} for t in [t0 + i*h for i in range(n)]]\n",
    "print(exact_data_points)"
   ]
  },
  {
   "cell_type": "code",
   "execution_count": 13,
   "metadata": {},
   "outputs": [
    {
     "data": {
      "image/png": "[encoded data removed]",
      "text/plain": [
       "<Figure size 432x288 with 1 Axes>"
      ]
     },
     "metadata": {
      "needs_background": "light"
     },
     "output_type": "display_data"
    }
   ],
   "source": [
    "# Comparing numerical solution with exact solution\n",
    "data_viz.plot_data(data_points, label=\"Backward Euler Method Solution\")\n",
    "data_viz.plot_data(exact_data_points, label=\"Exact Solution\")\n",
    "data_viz.show()"
   ]
  }
 ],
 "metadata": {
  "kernelspec": {
   "display_name": "Python 3",
   "language": "python",
   "name": "python3"
  },
  "language_info": {
   "codemirror_mode": {
    "name": "ipython",
    "version": 3
   },
   "file_extension": ".py",
   "mimetype": "text/x-python",
   "name": "python",
   "nbconvert_exporter": "python",
   "pygments_lexer": "ipython3",
   "version": "3.6.3"
  }
 },
 "nbformat": 4,
 "nbformat_minor": 4
}
